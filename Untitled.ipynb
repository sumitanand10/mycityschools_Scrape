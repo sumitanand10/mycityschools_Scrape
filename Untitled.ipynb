{
 "cells": [
  {
   "cell_type": "code",
   "execution_count": 9,
   "metadata": {},
   "outputs": [],
   "source": [
    "import requests\n",
    "from selenium import webdriver\n",
    "import pandas as pd"
   ]
  },
  {
   "cell_type": "code",
   "execution_count": 7,
   "metadata": {},
   "outputs": [],
   "source": [
    "driver=webdriver.Chrome(r'C:\\Users\\Sumit Anand\\Downloads\\Programs\\chromedriver_win32\\chromedriver.exe')"
   ]
  },
  {
   "cell_type": "code",
   "execution_count": 15,
   "metadata": {},
   "outputs": [],
   "source": [
    "links_df=pd.read_excel(r\"D:\\Personal\\New folder\\Cities_and_Links.xlsx\")['Links']"
   ]
  },
  {
   "cell_type": "code",
   "execution_count": 16,
   "metadata": {},
   "outputs": [
    {
     "data": {
      "text/plain": [
       "0      https://www.mycity4kids.com/Delhi-NCR/Play-Sch...\n",
       "1      https://www.mycity4kids.com/Delhi-NCR/Play-Sch...\n",
       "2      https://www.mycity4kids.com/Delhi-NCR/Play-Sch...\n",
       "3      https://www.mycity4kids.com/Delhi-NCR/Play-Sch...\n",
       "4      https://www.mycity4kids.com/Delhi-NCR/Play-Sch...\n",
       "5      https://www.mycity4kids.com/Delhi-NCR/Play-Sch...\n",
       "6      https://www.mycity4kids.com/Delhi-NCR/Play-Sch...\n",
       "7      https://www.mycity4kids.com/Delhi-NCR/Play-Sch...\n",
       "8      https://www.mycity4kids.com/Delhi-NCR/Play-Sch...\n",
       "9      https://www.mycity4kids.com/Delhi-NCR/Play-Sch...\n",
       "10     https://www.mycity4kids.com/Delhi-NCR/Play-Sch...\n",
       "11     https://www.mycity4kids.com/Delhi-NCR/Play-Sch...\n",
       "12     https://www.mycity4kids.com/Delhi-NCR/Play-Sch...\n",
       "13     https://www.mycity4kids.com/Delhi-NCR/Play-Sch...\n",
       "14     https://www.mycity4kids.com/Delhi-NCR/Play-Sch...\n",
       "15     https://www.mycity4kids.com/Delhi-NCR/Play-Sch...\n",
       "16     https://www.mycity4kids.com/Delhi-NCR/Play-Sch...\n",
       "17     https://www.mycity4kids.com/Delhi-NCR/Play-Sch...\n",
       "18     https://www.mycity4kids.com/Delhi-NCR/Play-Sch...\n",
       "19     https://www.mycity4kids.com/Delhi-NCR/Play-Sch...\n",
       "20     https://www.mycity4kids.com/Delhi-NCR/Play-Sch...\n",
       "21     https://www.mycity4kids.com/Delhi-NCR/Play-Sch...\n",
       "22     https://www.mycity4kids.com/Delhi-NCR/Play-Sch...\n",
       "23     https://www.mycity4kids.com/Delhi-NCR/Play-Sch...\n",
       "24     https://www.mycity4kids.com/Delhi-NCR/Play-Sch...\n",
       "25     https://www.mycity4kids.com/Delhi-NCR/Play-Sch...\n",
       "26     https://www.mycity4kids.com/Delhi-NCR/Play-Sch...\n",
       "27     https://www.mycity4kids.com/Delhi-NCR/Play-Sch...\n",
       "28     https://www.mycity4kids.com/Delhi-NCR/Play-Sch...\n",
       "29     https://www.mycity4kids.com/Delhi-NCR/Play-Sch...\n",
       "                             ...                        \n",
       "240    https://www.mycity4kids.com/Delhi-NCR/Play-Sch...\n",
       "241    https://www.mycity4kids.com/Delhi-NCR/Play-Sch...\n",
       "242    https://www.mycity4kids.com/Delhi-NCR/Play-Sch...\n",
       "243    https://www.mycity4kids.com/Delhi-NCR/Play-Sch...\n",
       "244    https://www.mycity4kids.com/Delhi-NCR/Play-Sch...\n",
       "245    https://www.mycity4kids.com/Delhi-NCR/Play-Sch...\n",
       "246    https://www.mycity4kids.com/Delhi-NCR/Play-Sch...\n",
       "247    https://www.mycity4kids.com/Delhi-NCR/Play-Sch...\n",
       "248    https://www.mycity4kids.com/Delhi-NCR/Play-Sch...\n",
       "249    https://www.mycity4kids.com/Delhi-NCR/Play-Sch...\n",
       "250    https://www.mycity4kids.com/Delhi-NCR/Play-Sch...\n",
       "251    https://www.mycity4kids.com/Delhi-NCR/Play-Sch...\n",
       "252    https://www.mycity4kids.com/Delhi-NCR/Play-Sch...\n",
       "253    https://www.mycity4kids.com/Delhi-NCR/Play-Sch...\n",
       "254    https://www.mycity4kids.com/Delhi-NCR/Play-Sch...\n",
       "255    https://www.mycity4kids.com/Delhi-NCR/Play-Sch...\n",
       "256    https://www.mycity4kids.com/Delhi-NCR/Play-Sch...\n",
       "257    https://www.mycity4kids.com/Delhi-NCR/Play-Sch...\n",
       "258    https://www.mycity4kids.com/Delhi-NCR/Play-Sch...\n",
       "259    https://www.mycity4kids.com/Delhi-NCR/Play-Sch...\n",
       "260    https://www.mycity4kids.com/Delhi-NCR/Play-Sch...\n",
       "261    https://www.mycity4kids.com/Delhi-NCR/Play-Sch...\n",
       "262    https://www.mycity4kids.com/Delhi-NCR/Play-Sch...\n",
       "263    https://www.mycity4kids.com/Delhi-NCR/Play-Sch...\n",
       "264    https://www.mycity4kids.com/Delhi-NCR/Play-Sch...\n",
       "265    https://www.mycity4kids.com/Delhi-NCR/Play-Sch...\n",
       "266    https://www.mycity4kids.com/Delhi-NCR/Play-Sch...\n",
       "267    https://www.mycity4kids.com/Delhi-NCR/Play-Sch...\n",
       "268    https://www.mycity4kids.com/Delhi-NCR/Play-Sch...\n",
       "269    https://www.mycity4kids.com/Delhi-NCR/Play-Sch...\n",
       "Name: Links, Length: 270, dtype: object"
      ]
     },
     "execution_count": 16,
     "metadata": {},
     "output_type": "execute_result"
    }
   ],
   "source": [
    "links_df"
   ]
  },
  {
   "cell_type": "code",
   "execution_count": 6,
   "metadata": {},
   "outputs": [],
   "source": [
    "class SpidyQuotesSpider(scrapy.Spider):\n",
    "    name = 'spidyquotes'\n",
    "    quotes_base_url = 'https://www.mycity4kids.com/Delhi-NCR/search/play-school?page=%s'\n",
    "    start_urls = [quotes_base_url % 1]\n",
    "    download_delay = 1.5\n",
    " \n",
    "    def parse(self, response):\n",
    "        data = json.loads(response.body)\n",
    "        for item in data.get('quotes', []):\n",
    "            yield {\n",
    "                'text': item.get('text'),\n",
    "                'author': item.get('author', {}).get('name'),\n",
    "                'tags': item.get('tags'),\n",
    "            }\n",
    "        if data['has_next']:\n",
    "            next_page = data['page'] + 1\n",
    "            yield scrapy.Request(self.quotes_base_url % next_page)"
   ]
  },
  {
   "cell_type": "code",
   "execution_count": 8,
   "metadata": {},
   "outputs": [],
   "source": [
    "SpidyQuotesSpider()"
   ]
  },
  {
   "cell_type": "code",
   "execution_count": 16,
   "metadata": {},
   "outputs": [
    {
     "ename": "TypeError",
     "evalue": "parse() missing 1 required positional argument: 'response'",
     "output_type": "error",
     "traceback": [
      "\u001b[1;31m---------------------------------------------------------------------------\u001b[0m",
      "\u001b[1;31mTypeError\u001b[0m                                 Traceback (most recent call last)",
      "\u001b[1;32m<ipython-input-16-b47763e37743>\u001b[0m in \u001b[0;36m<module>\u001b[1;34m\u001b[0m\n\u001b[1;32m----> 1\u001b[1;33m \u001b[0mrr\u001b[0m\u001b[1;33m.\u001b[0m\u001b[0mparse\u001b[0m\u001b[1;33m(\u001b[0m\u001b[1;33m)\u001b[0m\u001b[1;33m\u001b[0m\u001b[1;33m\u001b[0m\u001b[0m\n\u001b[0m",
      "\u001b[1;31mTypeError\u001b[0m: parse() missing 1 required positional argument: 'response'"
     ]
    }
   ],
   "source": [
    "rr.parse()"
   ]
  },
  {
   "cell_type": "code",
   "execution_count": null,
   "metadata": {},
   "outputs": [],
   "source": []
  }
 ],
 "metadata": {
  "kernelspec": {
   "display_name": "Python 3",
   "language": "python",
   "name": "python3"
  },
  "language_info": {
   "codemirror_mode": {
    "name": "ipython",
    "version": 3
   },
   "file_extension": ".py",
   "mimetype": "text/x-python",
   "name": "python",
   "nbconvert_exporter": "python",
   "pygments_lexer": "ipython3",
   "version": "3.7.3"
  }
 },
 "nbformat": 4,
 "nbformat_minor": 2
}
